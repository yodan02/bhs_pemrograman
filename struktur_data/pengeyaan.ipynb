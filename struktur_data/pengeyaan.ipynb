{
 "cells": [
  {
   "cell_type": "code",
   "execution_count": null,
   "metadata": {
    "vscode": {
     "languageId": "plaintext"
    }
   },
   "outputs": [],
   "source": [
    "#include <iostream>\n",
    "#include <stack>\n",
    "#include <string>"
   ]
  },
  {
   "cell_type": "markdown",
   "metadata": {},
   "source": [
    "- Include iostream "
   ]
  },
  {
   "cell_type": "markdown",
   "metadata": {},
   "source": [
    "Library ini digunakan untuk input-output stream, seperti cin untuk input dari keyboard dan cout dan cin dan lain lain"
   ]
  },
  {
   "cell_type": "markdown",
   "metadata": {},
   "source": [
    "- include stack"
   ]
  },
  {
   "cell_type": "markdown",
   "metadata": {},
   "source": [
    "Library ini menyediakan template class std::stack, yang merupakan tumpukan (stack) yang diimplementasikan dengan menggunakan konsep Last In First Out (LIFO). Tumpukan ini digunakan untuk menyimpan elemen-elemen dengan cara menambahkan elemen di atas (push) dan menghapus elemen dari atas (pop)"
   ]
  },
  {
   "cell_type": "markdown",
   "metadata": {},
   "source": [
    "- include string"
   ]
  },
  {
   "cell_type": "markdown",
   "metadata": {},
   "source": [
    "Library ini memberikan dukungan untuk memanipulasi string, seperti menyimpan, mengubah, dan membandingkan string. Penggunaan using namespace std;: using namespace std; digunakan untuk mempermudah penggunaan elemen-elemen dari namespace std tanpa harus menambahkan std:: sebelum setiap elemen tersebut. Namespace std merupakan namespace standar yang berisi banyak fungsi dan kelas yang sering digunakan dalam pemrograman C++."
   ]
  },
  {
   "cell_type": "markdown",
   "metadata": {},
   "source": [
    "- class PengolahKata"
   ]
  },
  {
   "cell_type": "code",
   "execution_count": null,
   "metadata": {
    "vscode": {
     "languageId": "plaintext"
    }
   },
   "outputs": [],
   "source": [
    "class PengolahKata {\n",
    "private:\n",
    "    string teksSaatIni;\n",
    "    stack<string> tumpukanUndo;\n",
    "    stack<string> tumpukanRedo;\n"
   ]
  },
  {
   "cell_type": "markdown",
   "metadata": {},
   "source": [
    "ini bertugas untuk mengelola teks yang sedang ditulis, serta menyediakan fungsi untuk undo dan redo pengeditan teks.\n",
    "\n",
    "Atribut Privat:\n",
    "\n",
    "1 string teksSaatIni;: Menyimpan teks yang sedang aktif.\n",
    "2 stack<string> tumpukanUndo;: Menyimpan teks-teks yang bisa di-undo.\n",
    "3 stack<string> tumpukanRedo;: Menyimpan teks-teks yang bisa di-redo."
   ]
  },
  {
   "cell_type": "markdown",
   "metadata": {},
   "source": [
    "- Konstruktor:"
   ]
  },
  {
   "cell_type": "markdown",
   "metadata": {},
   "source": [
    "PengolahKata(): Menginisialisasi teksSaatIni sebagai string kosong."
   ]
  },
  {
   "cell_type": "markdown",
   "metadata": {},
   "source": [
    "- void ketik"
   ]
  },
  {
   "cell_type": "code",
   "execution_count": null,
   "metadata": {
    "vscode": {
     "languageId": "plaintext"
    }
   },
   "outputs": [],
   "source": [
    "void ketik(const string& teks) {\n",
    "    tumpukanUndo.push(teksSaatIni);  // Simpan teks saat ini ke dalam tumpukanUndo\n",
    "    teksSaatIni += teks;             // Ketikkan teks baru ke dalam teksSaatIni\n",
    "    tumpukanRedo = stack<string>();  // Kosongkan tumpukanRedo setelah ada perubahan\n",
    "    cout << \"Teks ditambahkan: \" << teksSaatIni << endl;\n",
    "}"
   ]
  },
  {
   "cell_type": "markdown",
   "metadata": {},
   "source": [
    "1. Menambahkan teks baru ke teksSaatIni.\n",
    "2. Menyimpan teks sebelum perubahan ke tumpukanUndo.\n",
    "3. Mengosongkan tumpukanRedo setelah ada perubahan."
   ]
  },
  {
   "cell_type": "markdown",
   "metadata": {},
   "source": [
    "- void undo"
   ]
  },
  {
   "cell_type": "code",
   "execution_count": null,
   "metadata": {
    "vscode": {
     "languageId": "plaintext"
    }
   },
   "outputs": [],
   "source": [
    "void undo() {\n",
    "    if (!tumpukanUndo.empty()) {\n",
    "        tumpukanRedo.push(teksSaatIni);     // Simpan teks saat ini ke dalam tumpukanRedo\n",
    "        teksSaatIni = tumpukanUndo.top();  // Kembalikan teks sebelumnya dari tumpukanUndo\n",
    "        tumpukanUndo.pop();                 // Hapus teks yang digunakan dari tumpukanUndo\n",
    "        cout << \"Undo: \" << teksSaatIni << endl;\n",
    "    } else {\n",
    "        cout << \"Tidak ada yang bisa di-undo.\" << endl;\n",
    "    }\n",
    "}"
   ]
  },
  {
   "cell_type": "markdown",
   "metadata": {},
   "source": [
    "1. Mengembalikan teks ke kondisi sebelum perubahan terakhir.\n",
    "2. Menyimpan teks saat ini ke tumpukanRedo."
   ]
  },
  {
   "cell_type": "markdown",
   "metadata": {},
   "source": [
    "- void redo"
   ]
  },
  {
   "cell_type": "code",
   "execution_count": null,
   "metadata": {
    "vscode": {
     "languageId": "plaintext"
    }
   },
   "outputs": [],
   "source": [
    "void redo() {\n",
    "    if (!tumpukanRedo.empty()) {\n",
    "        tumpukanUndo.push(teksSaatIni);     // Simpan teks saat ini ke dalam tumpukanUndo\n",
    "        teksSaatIni = tumpukanRedo.top();  // Ambil teks yang ada di tumpukanRedo\n",
    "        tumpukanRedo.pop();                 // Hapus teks yang digunakan dari tumpukanRedo\n",
    "        cout << \"Redo: \" << teksSaatIni << endl;\n",
    "    } else {\n",
    "        cout << \"Tidak ada yang bisa di-redo.\" << endl;\n",
    "    }\n",
    "}"
   ]
  },
  {
   "cell_type": "markdown",
   "metadata": {},
   "source": [
    "1. Mengembalikan teks ke kondisi setelah undo terakhir.\n",
    "2. Menyimpan teks saat ini ke tumpukanUndo."
   ]
  },
  {
   "cell_type": "markdown",
   "metadata": {},
   "source": [
    "- bool apakahTumpukanUndoKosong()"
   ]
  },
  {
   "cell_type": "code",
   "execution_count": null,
   "metadata": {
    "vscode": {
     "languageId": "plaintext"
    }
   },
   "outputs": [],
   "source": [
    "bool apakahTumpukanUndoKosong() const {\n",
    "    return tumpukanUndo.empty();\n",
    "}\n"
   ]
  },
  {
   "cell_type": "markdown",
   "metadata": {},
   "source": [
    "Mengecek apakah tumpukanUndo kosong."
   ]
  },
  {
   "cell_type": "markdown",
   "metadata": {},
   "source": [
    "- bool apakahTumpukanRedoKosong()"
   ]
  },
  {
   "cell_type": "code",
   "execution_count": null,
   "metadata": {
    "vscode": {
     "languageId": "plaintext"
    }
   },
   "outputs": [],
   "source": [
    "bool apakahTumpukanRedoKosong() const {\n",
    "    return tumpukanRedo.empty();\n",
    "}\n"
   ]
  },
  {
   "cell_type": "markdown",
   "metadata": {},
   "source": [
    "Mengecek apakah tumpukanRedo kosong."
   ]
  },
  {
   "cell_type": "markdown",
   "metadata": {},
   "source": [
    "- Inisialisasi"
   ]
  },
  {
   "cell_type": "code",
   "execution_count": null,
   "metadata": {
    "vscode": {
     "languageId": "plaintext"
    }
   },
   "outputs": [],
   "source": [
    "PengolahKata editor;\n",
    "int operasi;\n",
    "string teks;\n"
   ]
  },
  {
   "cell_type": "markdown",
   "metadata": {},
   "source": [
    "- menu utama dalam program"
   ]
  },
  {
   "cell_type": "code",
   "execution_count": null,
   "metadata": {
    "vscode": {
     "languageId": "plaintext"
    }
   },
   "outputs": [],
   "source": [
    "while (true) {\n",
    "    // Menampilkan menu \n",
    "    cout << \"+++++++++++++++++++++++++++++++++++++++++++++++++Menu Pengolah Kata +++++++++++++++++++++++++++++++++++++++++++++++++++++++++++\" << endl;\n",
    "    cout << \"1. Ketik teks baru\" << endl;\n",
    "    cout << \"2. Undo\" << endl;\n",
    "    cout << \"3. Redo\" << endl;\n",
    "    cout << \"4. Cek apakah Tumpukan Undo kosong\" << endl;\n",
    "    cout << \"5. Cek apakah Tumpukan Redo kosong\" << endl;\n",
    "    cout << \"6. Keluar\" << endl;\n",
    "    cout << \"_______________________________________________________________________________________________________________________\" << endl;\n",
    "    cout << \"Masukkan pilihan (1-6): \";\n",
    "    \n",
    "    // Menerima input dari pengguna\n",
    "    cin >> operasi;\n"
   ]
  },
  {
   "cell_type": "markdown",
   "metadata": {},
   "source": [
    "- Switch-case "
   ]
  },
  {
   "cell_type": "code",
   "execution_count": null,
   "metadata": {
    "vscode": {
     "languageId": "plaintext"
    }
   },
   "outputs": [],
   "source": [
    "    switch (operasi) {\n",
    "        case 1:\n",
    "            cout << \"Masukkan teks yang ingin ditambahkan: \";\n",
    "            cin.ignore(); // Membersihkan buffer input\n",
    "            getline(cin, teks);\n",
    "            editor.ketik(teks);\n",
    "            break;\n",
    "\n",
    "        case 2:\n",
    "            editor.undo();\n",
    "            break;\n",
    "\n",
    "        case 3:\n",
    "            editor.redo();\n",
    "            break;\n",
    "\n",
    "        case 4:\n",
    "            if (editor.apakahTumpukanUndoKosong()) {\n",
    "                cout << \"Tumpukan Undo kosong.\" << endl;\n",
    "            } else {\n",
    "                cout << \"Tumpukan Undo tidak kosong.\" << endl;\n",
    "            }\n",
    "            break;\n",
    "\n",
    "        case 5:\n",
    "            if (editor.apakahTumpukanRedoKosong()) {\n",
    "                cout << \"Tumpukan Redo kosong.\" << endl;\n",
    "            } else {\n",
    "                cout << \"Tumpukan Redo tidak kosong.\" << endl;\n",
    "            }\n",
    "            break;\n",
    "\n",
    "        case 6:\n",
    "            cout << \"Keluar dari program.\" << endl;\n",
    "            return 0;\n",
    "\n",
    "        default:\n",
    "            cout << \"Pilihan tidak valid. Silakan masukkan angka dari 1 sampai 6.\" << endl;\n",
    "            break;\n",
    "    }\n",
    "    cout << endl;\n",
    "}\n"
   ]
  },
  {
   "cell_type": "markdown",
   "metadata": {},
   "source": [
    "- Kesimpulan Program"
   ]
  },
  {
   "cell_type": "markdown",
   "metadata": {},
   "source": [
    "Program ini adalah editor teks sederhana yang memungkinkan pengguna untuk mengetik teks, melakukan undo, redo, serta mengecek status tumpukan undo dan redo. Menggunakan stack untuk mengelola undo dan redo, setiap perubahan teks disimpan untuk memungkinkan pengguna mengembalikan atau mengulangi tindakan sebelumnya. Program ini terus berjalan dalam loop hingga pengguna memilih untuk keluar."
   ]
  }
 ],
 "metadata": {
  "language_info": {
   "name": "python"
  }
 },
 "nbformat": 4,
 "nbformat_minor": 2
}
